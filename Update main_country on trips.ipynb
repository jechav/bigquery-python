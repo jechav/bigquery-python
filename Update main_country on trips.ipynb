{
 "cells": [
  {
   "cell_type": "code",
   "execution_count": 1,
   "metadata": {},
   "outputs": [],
   "source": [
    "### step1\n",
    "# Imports\n",
    "###\n",
    "import csv\n",
    "import json\n",
    "import os\n",
    "import pprint\n",
    "from dictor import dictor\n",
    "import pandas as pd\n",
    "from copy import copy\n",
    "import requests"
   ]
  },
  {
   "cell_type": "code",
   "execution_count": 76,
   "metadata": {},
   "outputs": [],
   "source": [
    "UpdatequeryByTripCode = \"\"\"\n",
    "mutation UpdatequeryByTripCode($tripCode: String!, $countryId: uuid) {\n",
    "  update_trip(where: {_and: [{code: {_eq: $tripCode}}]}, _set: {main_country_id: $countryId}) {\n",
    "    affected_rows\n",
    "  }\n",
    "}\n",
    "\"\"\"\n",
    "UpdatequeryByBrandCode = \"\"\"\n",
    "mutation updateTripMainCountry($brandCode: String!, $countryId: uuid) {\n",
    "  update_trip(where: {_and: [{project: {code: {_eq: $brandCode}}}]}, _set: {main_country_id: $countryId}) {\n",
    "    affected_rows\n",
    "  }\n",
    "}\n",
    "\"\"\""
   ]
  },
  {
   "cell_type": "code",
   "execution_count": 3,
   "metadata": {},
   "outputs": [],
   "source": [
    "### step4\n",
    "# Declare url and authentication with header secret FIXME protect this\n",
    "###\n",
    "headers = {'content-type': 'application/json', 'x-hasura-admin-secret': 'V3ntur4Pr0dH4sur4Tr4v3lC0re2o2o'}\n",
    "url = 'https://core.venturatravel.org/v1/graphql'"
   ]
  },
  {
   "cell_type": "code",
   "execution_count": 4,
   "metadata": {},
   "outputs": [],
   "source": [
    "def sendRequest(query, variables: dict={}):\n",
    "    r = requests.post(url=url, json={'query': query, 'variables': variables}, headers=headers)\n",
    "    return r.json()\n"
   ]
  },
  {
   "cell_type": "code",
   "execution_count": 77,
   "metadata": {},
   "outputs": [],
   "source": [
    "associations  = [\n",
    "    { 'tripCode': 'xcub', 'countryCode': 'CU' },\n",
    "]\n"
   ]
  },
  {
   "cell_type": "code",
   "execution_count": 78,
   "metadata": {},
   "outputs": [],
   "source": [
    "# get all countries\n",
    "queryCountries = \"\"\"\n",
    "query getCountries{\n",
    "    country{\n",
    "        id\n",
    "        code\n",
    "        name\n",
    "    }\n",
    "}\n",
    "\"\"\"\n",
    "res = sendRequest(queryCountries)\n",
    "countries = res['data']['country']"
   ]
  },
  {
   "cell_type": "code",
   "execution_count": 79,
   "metadata": {},
   "outputs": [],
   "source": [
    "def findCountryId(countries, countryCode):\n",
    "    return next(x['id'] for x in countries if x['code'] == countryCode)\n",
    "\n",
    "def findCountryIdByName(countries, countryName):\n",
    "    return next(x['id'] for x in countries if x['name'] == countryName)"
   ]
  },
  {
   "cell_type": "code",
   "execution_count": 80,
   "metadata": {},
   "outputs": [],
   "source": [
    "updateByTripCode = []\n",
    "updateByBrandCode = []\n",
    "noFoundCountry = []\n",
    "for assoc in associations:\n",
    "    countryId = None\n",
    "    if 'countryCode' in assoc:\n",
    "        countryId = findCountryId(countries,  assoc['countryCode'])\n",
    "    elif 'countryName' in assoc:\n",
    "        countryId = findCountryIdByName(countries,  assoc['countryName'])\n",
    "        \n",
    "    if countryId == None:\n",
    "        noFoundCountry.append(assoc)\n",
    "        continue\n",
    "    \n",
    "    if dictor(assoc, 'brand') != None:\n",
    "        updateByBrandCode.append({ 'brandCode': dictor(assoc, 'brand'), 'countryId': countryId })\n",
    "    elif dictor(assoc, 'tripCode') != None:\n",
    "        updateByTripCode.append({ 'tripCode': dictor(assoc, 'tripCode'), 'countryId': countryId })\n",
    "                              \n",
    "\n",
    "if len(noFoundCountry) > 0:\n",
    "    print('Countries not found')\n",
    "    print(noFoundCountry)\n"
   ]
  },
  {
   "cell_type": "code",
   "execution_count": 75,
   "metadata": {},
   "outputs": [
    {
     "name": "stdout",
     "output_type": "stream",
     "text": [
      "___________\n",
      "{'brandCode': 'gal', 'countryId': '00d5bca0-7cf6-4775-b95f-25e5bb41e411'}\n",
      "{'data': {'update_trip': {'affected_rows': 418}}}\n"
     ]
    }
   ],
   "source": [
    "for obj in updateByBrandCode:\n",
    "    print('___________')\n",
    "    print(obj)\n",
    "    resUpdate = sendRequest(UpdatequeryByBrandCode, obj)\n",
    "    print(resUpdate)"
   ]
  },
  {
   "cell_type": "code",
   "execution_count": 81,
   "metadata": {},
   "outputs": [
    {
     "name": "stdout",
     "output_type": "stream",
     "text": [
      "___________\n",
      "{'tripCode': 'xcub', 'countryId': '3924d451-ff50-498e-9768-44b07a979ecd'}\n",
      "{'data': {'update_trip': {'affected_rows': 2}}}\n"
     ]
    }
   ],
   "source": [
    "for obj in updateByTripCode:\n",
    "    print('___________')\n",
    "    print(obj)\n",
    "    resUpdate = sendRequest(UpdatequeryByTripCode, obj)\n",
    "    print(resUpdate)"
   ]
  },
  {
   "cell_type": "code",
   "execution_count": null,
   "metadata": {},
   "outputs": [],
   "source": []
  }
 ],
 "metadata": {
  "kernelspec": {
   "display_name": "Python 3",
   "language": "python",
   "name": "python3"
  },
  "language_info": {
   "codemirror_mode": {
    "name": "ipython",
    "version": 3
   },
   "file_extension": ".py",
   "mimetype": "text/x-python",
   "name": "python",
   "nbconvert_exporter": "python",
   "pygments_lexer": "ipython3",
   "version": "3.6.9"
  }
 },
 "nbformat": 4,
 "nbformat_minor": 4
}
