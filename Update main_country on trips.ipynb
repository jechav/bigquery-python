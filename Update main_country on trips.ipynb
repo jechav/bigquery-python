{
 "cells": [
  {
   "cell_type": "code",
   "execution_count": 3,
   "metadata": {},
   "outputs": [],
   "source": [
    "### step1\n",
    "# Imports\n",
    "###\n",
    "import csv\n",
    "import json\n",
    "import os\n",
    "import pprint\n",
    "from dictor import dictor\n",
    "import pandas as pd\n",
    "from copy import copy\n",
    "import requests"
   ]
  },
  {
   "cell_type": "code",
   "execution_count": 4,
   "metadata": {},
   "outputs": [],
   "source": [
    "UpdatequeryByTripCode = \"\"\"\n",
    "mutation UpdatequeryByTripCode($tripCode: String!, $countryId: uuid) {\n",
    "  update_trip(where: {_and: [{code: {_eq: $tripCode}}]}, _set: {main_country_id: $countryId}) {\n",
    "    affected_rows\n",
    "  }\n",
    "}\n",
    "\"\"\"\n",
    "UpdatequeryByBrandCode = \"\"\"\n",
    "mutation updateTripMainCountry($brandCode: String!, $countryId: uuid) {\n",
    "  update_trip(where: {_and: [{project: {code: {_eq: $brandCode}}}]}, _set: {main_country_id: $countryId}) {\n",
    "    affected_rows\n",
    "  }\n",
    "}\n",
    "\"\"\""
   ]
  },
  {
   "cell_type": "code",
   "execution_count": 5,
   "metadata": {},
   "outputs": [],
   "source": [
    "### step4\n",
    "# Declare url and authentication with header secret FIXME protect this\n",
    "###\n",
    "headers = {'content-type': 'application/json', 'x-hasura-admin-secret': 'V3ntur4Pr0dH4sur4Tr4v3lC0re2o2o'}\n",
    "url = 'https://core.venturatravel.org/v1/graphql'"
   ]
  },
  {
   "cell_type": "code",
   "execution_count": 6,
   "metadata": {},
   "outputs": [],
   "source": [
    "def sendRequest(query, variables: dict={}):\n",
    "    r = requests.post(url=url, json={'query': query, 'variables': variables}, headers=headers)\n",
    "    return r.json()\n"
   ]
  },
  {
   "cell_type": "code",
   "execution_count": 30,
   "metadata": {},
   "outputs": [],
   "source": [
    "associations  = [\n",
    "    { 'tripCode': 'carg', 'countryName': 'Argentina' },\n",
    "    { 'tripCode': 'cpat', 'countryName': 'Argentina' },\n",
    "    { 'tripCode': 'cpatcp', 'countryName': 'Argentina' },\n",
    "    { 'tripCode': 'cchin', 'countryName': 'China' },\n",
    "    { 'tripCode': 'xchip', 'countryName': 'China' },\n",
    "    { 'tripCode': 'xchinm', 'countryName': 'China' },\n",
    "    { 'tripCode': 'ccol', 'countryName': 'Colombia' },\n",
    "    { 'tripCode': 'xpsujg', 'countryName': 'Peru' },\n",
    "    { 'tripCode': 'xpsucp', 'countryName': 'Peru' },\n",
    "    { 'tripCode': 'ysriMIA', 'countryName': 'Sri Lanka' },\n",
    "    { 'tripCode': 'yprtMIA', 'countryName': 'Portugal' },\n",
    "    { 'tripCode': 'xgrex', 'countryName': 'Greece' },\n",
    "    { 'tripCode': 'xegacp', 'countryName': 'Ecuador' }, \n",
    "]\n"
   ]
  },
  {
   "cell_type": "code",
   "execution_count": 19,
   "metadata": {},
   "outputs": [],
   "source": [
    "# get all countries\n",
    "queryCountries = \"\"\"\n",
    "query getCountries{\n",
    "    country{\n",
    "        id\n",
    "        code\n",
    "        name\n",
    "    }\n",
    "}\n",
    "\"\"\"\n",
    "res = sendRequest(queryCountries)\n",
    "countries = res['data']['country']"
   ]
  },
  {
   "cell_type": "code",
   "execution_count": 24,
   "metadata": {},
   "outputs": [],
   "source": [
    "def findCountryId(countries, countryCode):\n",
    "    return next(x['id'] for x in countries if x['code'] == countryCode)\n",
    "\n",
    "def findCountryIdByName(countries, countryName):\n",
    "    return next(x['id'] for x in countries if x['name'] == countryName)"
   ]
  },
  {
   "cell_type": "code",
   "execution_count": 31,
   "metadata": {},
   "outputs": [],
   "source": [
    "updateByTripCode = []\n",
    "updateByBrandCode = []\n",
    "noFoundCountry = []\n",
    "for assoc in associations:\n",
    "    countryId = None\n",
    "    if 'countryCode' in assoc:\n",
    "        countryId = findCountryId(countries,  assoc['countryCode'])\n",
    "    elif 'countryName' in assoc:\n",
    "        countryId = findCountryIdByName(countries,  assoc['countryName'])\n",
    "        \n",
    "    if countryId == None:\n",
    "        noFoundCountry.append(assoc)\n",
    "        continue\n",
    "    \n",
    "    if dictor(assoc, 'brandCode') != None:\n",
    "        updateByBrandCode.append({ 'brandCode': dictor(assoc, 'brandCode'), 'countryId': countryId })\n",
    "    elif dictor(assoc, 'tripCode') != None:\n",
    "        updateByTripCode.append({ 'tripCode': dictor(assoc, 'tripCode'), 'countryId': countryId })\n",
    "                              \n",
    "\n",
    "if len(noFoundCountry) > 0:\n",
    "    print('Countries not found')\n",
    "    print(noFoundCountry)\n"
   ]
  },
  {
   "cell_type": "code",
   "execution_count": 16,
   "metadata": {},
   "outputs": [
    {
     "name": "stdout",
     "output_type": "stream",
     "text": [
      "___________\n",
      "{'brandCode': 'eur', 'countryId': 'cedbeeb9-3133-4048-b56b-4cddaf2eac22'}\n",
      "{'data': {'update_trip': {'affected_rows': 15}}}\n",
      "___________\n",
      "{'brandCode': 'fai', 'countryId': '00d5bca0-7cf6-4775-b95f-25e5bb41e411'}\n",
      "{'data': {'update_trip': {'affected_rows': 20}}}\n"
     ]
    }
   ],
   "source": [
    "for obj in updateByBrandCode:\n",
    "    print('___________')\n",
    "    print(obj)\n",
    "    resUpdate = sendRequest(UpdatequeryByBrandCode, obj)\n",
    "    print(resUpdate)"
   ]
  },
  {
   "cell_type": "code",
   "execution_count": 32,
   "metadata": {},
   "outputs": [
    {
     "name": "stdout",
     "output_type": "stream",
     "text": [
      "___________\n",
      "{'tripCode': 'carg', 'countryId': '3b6f539a-7402-4518-b606-d4053fb0b6a9'}\n",
      "{'data': {'update_trip': {'affected_rows': 5}}}\n",
      "___________\n",
      "{'tripCode': 'cpat', 'countryId': '3b6f539a-7402-4518-b606-d4053fb0b6a9'}\n",
      "{'data': {'update_trip': {'affected_rows': 4}}}\n",
      "___________\n",
      "{'tripCode': 'cpatcp', 'countryId': '3b6f539a-7402-4518-b606-d4053fb0b6a9'}\n",
      "{'data': {'update_trip': {'affected_rows': 3}}}\n",
      "___________\n",
      "{'tripCode': 'cchin', 'countryId': '02664588-3a2d-4cde-b047-e117bce8ac4a'}\n",
      "{'data': {'update_trip': {'affected_rows': 1}}}\n",
      "___________\n",
      "{'tripCode': 'xchip', 'countryId': '02664588-3a2d-4cde-b047-e117bce8ac4a'}\n",
      "{'data': {'update_trip': {'affected_rows': 1}}}\n",
      "___________\n",
      "{'tripCode': 'xchinm', 'countryId': '02664588-3a2d-4cde-b047-e117bce8ac4a'}\n",
      "{'data': {'update_trip': {'affected_rows': 1}}}\n",
      "___________\n",
      "{'tripCode': 'ccol', 'countryId': 'fe73a8cc-4e10-4e49-a429-898e13912d84'}\n",
      "{'data': {'update_trip': {'affected_rows': 4}}}\n",
      "___________\n",
      "{'tripCode': 'xpsujg', 'countryId': 'cbecc430-c36f-454c-a302-c6611b71ea3a'}\n",
      "{'data': {'update_trip': {'affected_rows': 1}}}\n",
      "___________\n",
      "{'tripCode': 'xpsucp', 'countryId': 'cbecc430-c36f-454c-a302-c6611b71ea3a'}\n",
      "{'data': {'update_trip': {'affected_rows': 1}}}\n",
      "___________\n",
      "{'tripCode': 'ysriMIA', 'countryId': 'fa17eef4-59fe-4c86-a441-4ae46ac1e27e'}\n",
      "{'data': {'update_trip': {'affected_rows': 1}}}\n",
      "___________\n",
      "{'tripCode': 'yprtMIA', 'countryId': '6fa036f7-2814-47a3-99ec-9dd06a4b79d9'}\n",
      "{'data': {'update_trip': {'affected_rows': 1}}}\n",
      "___________\n",
      "{'tripCode': 'xgrex', 'countryId': '177b4570-f906-4bd7-be13-f74257560e39'}\n",
      "{'data': {'update_trip': {'affected_rows': 1}}}\n",
      "___________\n",
      "{'tripCode': 'xegacp', 'countryId': '00d5bca0-7cf6-4775-b95f-25e5bb41e411'}\n",
      "{'data': {'update_trip': {'affected_rows': 3}}}\n"
     ]
    }
   ],
   "source": [
    "for obj in updateByTripCode:\n",
    "    print('___________')\n",
    "    print(obj)\n",
    "    resUpdate = sendRequest(UpdatequeryByTripCode, obj)\n",
    "    print(resUpdate)"
   ]
  },
  {
   "cell_type": "code",
   "execution_count": null,
   "metadata": {},
   "outputs": [],
   "source": []
  }
 ],
 "metadata": {
  "kernelspec": {
   "display_name": "Python 3",
   "language": "python",
   "name": "python3"
  },
  "language_info": {
   "codemirror_mode": {
    "name": "ipython",
    "version": 3
   },
   "file_extension": ".py",
   "mimetype": "text/x-python",
   "name": "python",
   "nbconvert_exporter": "python",
   "pygments_lexer": "ipython3",
   "version": "3.6.9"
  }
 },
 "nbformat": 4,
 "nbformat_minor": 4
}
