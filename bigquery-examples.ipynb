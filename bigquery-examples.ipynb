{
 "cells": [
  {
   "cell_type": "code",
   "execution_count": 8,
   "metadata": {
    "scrolled": true
   },
   "outputs": [
    {
     "name": "stdout",
     "output_type": "stream",
     "text": [
      "Frances\n",
      "Alice\n",
      "Beatrice\n",
      "Ella\n",
      "Gertrude\n",
      "Josephine\n",
      "Lula\n",
      "Blanche\n",
      "Marjorie\n",
      "Christine\n",
      "Margarita\n",
      "Alta\n",
      "Sara\n",
      "Naomi\n",
      "Sofia\n",
      "Andrea\n",
      "Delfina\n",
      "Dominga\n",
      "Elnora\n",
      "Adele\n",
      "Rafaela\n",
      "Dixie\n",
      "Luisa\n",
      "Bess\n",
      "Ernestine\n",
      "Lorine\n",
      "Patsy\n",
      "Cecelia\n",
      "Enriqueta\n",
      "Lucinda\n",
      "Alyce\n",
      "Oneta\n",
      "Apolonia\n",
      "Gloria\n",
      "Rhoda\n",
      "Buna\n",
      "Maye\n",
      "Pansy\n",
      "Gladys\n",
      "Maria\n",
      "Helen\n",
      "Velma\n",
      "Clara\n",
      "Anna\n",
      "Evelyn\n",
      "Rosa\n",
      "Mae\n",
      "Bernice\n",
      "Stella\n",
      "Vivian\n",
      "Mable\n",
      "Maggie\n",
      "Betty\n",
      "Guadalupe\n",
      "Lorene\n",
      "Susie\n",
      "Sadie\n",
      "Erma\n",
      "Verna\n",
      "Amelia\n",
      "Estelle\n",
      "Nell\n",
      "Margie\n",
      "Celia\n",
      "Lessie\n",
      "Eloise\n",
      "Millie\n",
      "Olga\n",
      "Letha\n",
      "Rachel\n",
      "Luz\n",
      "Gussie\n",
      "Sylvia\n",
      "Aline\n",
      "Barbara\n",
      "Iris\n",
      "Leila\n",
      "Mozelle\n",
      "Simona\n",
      "Catalina\n",
      "Hester\n",
      "Willia\n",
      "Allene\n",
      "Avis\n",
      "George\n",
      "Isabella\n",
      "Polly\n",
      "Syble\n",
      "Teodora\n",
      "Lennie\n",
      "Ricarda\n",
      "Valerie\n",
      "Frances\n",
      "Gertrude\n",
      "Sarah\n",
      "Rosa\n",
      "Lucy\n",
      "Nora\n",
      "Nettie\n",
      "Odessa\n"
     ]
    }
   ],
   "source": [
    "from google.cloud import bigquery\n",
    "\n",
    "client = bigquery.Client()\n",
    "\n",
    "# Perform a query.\n",
    "QUERY = (\n",
    "    'SELECT name FROM `bigquery-public-data.usa_names.usa_1910_2013` '\n",
    "    'WHERE state = \"TX\" '\n",
    "    'LIMIT 100')\n",
    "query_job = client.query(QUERY)  # API request\n",
    "rows = query_job.result()  # Waits for query to finish\n",
    "\n",
    "for row in rows:\n",
    "    print(row.name)"
   ]
  },
  {
   "cell_type": "code",
   "execution_count": 9,
   "metadata": {},
   "outputs": [
    {
     "name": "stdout",
     "output_type": "stream",
     "text": [
      "The google.cloud.bigquery extension is already loaded. To reload it, use:\n",
      "  %reload_ext google.cloud.bigquery\n"
     ]
    }
   ],
   "source": [
    "%load_ext google.cloud.bigquery"
   ]
  },
  {
   "cell_type": "code",
   "execution_count": 11,
   "metadata": {},
   "outputs": [],
   "source": [
    "import pandas as pd"
   ]
  },
  {
   "cell_type": "code",
   "execution_count": 12,
   "metadata": {},
   "outputs": [],
   "source": [
    "%%bigquery df\n",
    "WITH\n",
    "  gin_sales AS (\n",
    "  SELECT\n",
    "    DATE_TRUNC(date, MONTH) AS month,\n",
    "    DATE_SUB(DATE_TRUNC(date, MONTH), INTERVAL 1 YEAR) AS month_year_before,\n",
    "    SUM(volume_sold_liters) AS volume_sold_liters\n",
    "  FROM\n",
    "    `bigquery-public-data.iowa_liquor_sales.sales`\n",
    "  WHERE\n",
    "    UPPER(category_name) LIKE \"%GIN%\"\n",
    "  GROUP BY\n",
    "    month,\n",
    "    month_year_before\n",
    "  ORDER BY\n",
    "    month DESC )\n",
    "SELECT\n",
    "  current_sales.month,\n",
    "  current_sales.volume_sold_liters,\n",
    "  year_ago_sales.volume_sold_liters AS volume_sold_year_ago,\n",
    "  current_sales.volume_sold_liters - year_ago_sales.volume_sold_liters AS increase_liters\n",
    "FROM\n",
    "  gin_sales AS current_sales\n",
    "JOIN\n",
    "  gin_sales AS year_ago_sales\n",
    "ON\n",
    "  current_sales.month = year_ago_sales.month_year_before\n",
    "ORDER BY\n",
    "  1 DESC LIMIT 100; "
   ]
  },
  {
   "cell_type": "code",
   "execution_count": 13,
   "metadata": {},
   "outputs": [
    {
     "data": {
      "text/html": [
       "<div>\n",
       "<style scoped>\n",
       "    .dataframe tbody tr th:only-of-type {\n",
       "        vertical-align: middle;\n",
       "    }\n",
       "\n",
       "    .dataframe tbody tr th {\n",
       "        vertical-align: top;\n",
       "    }\n",
       "\n",
       "    .dataframe thead th {\n",
       "        text-align: right;\n",
       "    }\n",
       "</style>\n",
       "<table border=\"1\" class=\"dataframe\">\n",
       "  <thead>\n",
       "    <tr style=\"text-align: right;\">\n",
       "      <th></th>\n",
       "      <th>month</th>\n",
       "      <th>volume_sold_liters</th>\n",
       "      <th>volume_sold_year_ago</th>\n",
       "      <th>increase_liters</th>\n",
       "    </tr>\n",
       "  </thead>\n",
       "  <tbody>\n",
       "    <tr>\n",
       "      <th>0</th>\n",
       "      <td>2019-03-01</td>\n",
       "      <td>36056.91</td>\n",
       "      <td>46507.25</td>\n",
       "      <td>-10450.34</td>\n",
       "    </tr>\n",
       "    <tr>\n",
       "      <th>1</th>\n",
       "      <td>2019-02-01</td>\n",
       "      <td>35150.41</td>\n",
       "      <td>35095.37</td>\n",
       "      <td>55.04</td>\n",
       "    </tr>\n",
       "    <tr>\n",
       "      <th>2</th>\n",
       "      <td>2019-01-01</td>\n",
       "      <td>41121.03</td>\n",
       "      <td>35968.30</td>\n",
       "      <td>5152.73</td>\n",
       "    </tr>\n",
       "    <tr>\n",
       "      <th>3</th>\n",
       "      <td>2018-12-01</td>\n",
       "      <td>49941.92</td>\n",
       "      <td>48926.89</td>\n",
       "      <td>1015.03</td>\n",
       "    </tr>\n",
       "    <tr>\n",
       "      <th>4</th>\n",
       "      <td>2018-11-01</td>\n",
       "      <td>42715.55</td>\n",
       "      <td>43390.38</td>\n",
       "      <td>-674.83</td>\n",
       "    </tr>\n",
       "  </tbody>\n",
       "</table>\n",
       "</div>"
      ],
      "text/plain": [
       "        month  volume_sold_liters  volume_sold_year_ago  increase_liters\n",
       "0  2019-03-01            36056.91              46507.25        -10450.34\n",
       "1  2019-02-01            35150.41              35095.37            55.04\n",
       "2  2019-01-01            41121.03              35968.30          5152.73\n",
       "3  2018-12-01            49941.92              48926.89          1015.03\n",
       "4  2018-11-01            42715.55              43390.38          -674.83"
      ]
     },
     "execution_count": 13,
     "metadata": {},
     "output_type": "execute_result"
    }
   ],
   "source": [
    "df.head()"
   ]
  },
  {
   "cell_type": "code",
   "execution_count": 16,
   "metadata": {},
   "outputs": [
    {
     "name": "stderr",
     "output_type": "stream",
     "text": [
      "Downloading: 100%|██████████| 87/87 [00:03<00:00, 28.32rows/s]\n"
     ]
    }
   ],
   "source": [
    "df = pd.read_gbq(\"\"\"\n",
    "WITH\n",
    "  gin_sales AS (\n",
    "  SELECT\n",
    "    DATE_TRUNC(date, MONTH) AS month,\n",
    "    DATE_SUB(DATE_TRUNC(date, MONTH), INTERVAL 1 YEAR) AS month_year_before,\n",
    "    SUM(volume_sold_liters) AS volume_sold_liters\n",
    "  FROM\n",
    "    `bigquery-public-data.iowa_liquor_sales.sales`\n",
    "  WHERE\n",
    "    UPPER(category_name) LIKE \"%GIN%\"\n",
    "  GROUP BY\n",
    "    month,\n",
    "    month_year_before\n",
    "  ORDER BY\n",
    "    month DESC )\n",
    "SELECT\n",
    "  current_sales.month,\n",
    "  current_sales.volume_sold_liters,\n",
    "  year_ago_sales.volume_sold_liters AS volume_sold_year_ago,\n",
    "  current_sales.volume_sold_liters - year_ago_sales.volume_sold_liters AS increase_liters\n",
    "FROM\n",
    "  gin_sales AS current_sales\n",
    "JOIN\n",
    "  gin_sales AS year_ago_sales\n",
    "ON\n",
    "  current_sales.month = year_ago_sales.month_year_before\n",
    "ORDER BY\n",
    "  1 DESC LIMIT 100; \n",
    "\"\"\", use_bqstorage_api=True)"
   ]
  },
  {
   "cell_type": "code",
   "execution_count": 17,
   "metadata": {},
   "outputs": [
    {
     "name": "stderr",
     "output_type": "stream",
     "text": [
      "1it [00:05,  5.02s/it]\n"
     ]
    }
   ],
   "source": [
    "df.to_gbq(\"experimental.test_table\", \"bigquery-course-xyz\", if_exists='replace')"
   ]
  },
  {
   "cell_type": "code",
   "execution_count": null,
   "metadata": {},
   "outputs": [],
   "source": []
  }
 ],
 "metadata": {
  "hide_input": false,
  "kernelspec": {
   "display_name": "venv-bigquery-course",
   "language": "python",
   "name": "venv-bigquery-course"
  },
  "language_info": {
   "codemirror_mode": {
    "name": "ipython",
    "version": 3
   },
   "file_extension": ".py",
   "mimetype": "text/x-python",
   "name": "python",
   "nbconvert_exporter": "python",
   "pygments_lexer": "ipython3",
   "version": "3.6.8"
  }
 },
 "nbformat": 4,
 "nbformat_minor": 4
}
